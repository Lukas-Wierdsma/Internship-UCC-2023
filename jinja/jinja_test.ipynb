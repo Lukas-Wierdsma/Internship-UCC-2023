{
 "cells": [
  {
   "cell_type": "code",
   "execution_count": 3,
   "metadata": {},
   "outputs": [],
   "source": [
    "from jinja2 import Environment, PackageLoader, select_autoescape\n",
    "env = Environment(\n",
    "    loader=PackageLoader(\"jinja_test\"),\n",
    "    autoescape=select_autoescape())"
   ]
  },
  {
   "cell_type": "code",
   "execution_count": 11,
   "metadata": {},
   "outputs": [
    {
     "name": "stdout",
     "output_type": "stream",
     "text": [
      "Hello World!\n"
     ]
    }
   ],
   "source": [
    "template = env.from_string(\"Hello {{ name }}!\")\n",
    "print(template.render(name=\"World\"))"
   ]
  },
  {
   "cell_type": "code",
   "execution_count": 28,
   "metadata": {},
   "outputs": [
    {
     "name": "stdout",
     "output_type": "stream",
     "text": [
      "\n",
      "Hello John!\n",
      "\n",
      "I'm sorry to inform you that you did poorly on today's European Countries quiz.\n",
      "\n",
      "You reached 1.14 out of 20 points (5.7%).\n",
      "\n",
      "See you tomorrow!\n",
      "Anke\n"
     ]
    }
   ],
   "source": [
    "template = env.get_template(\"template.txt\")\n",
    "print(template.render(name=\"John\", test_name=\"European Countries quiz\", score=1.14, max_score=20))"
   ]
  },
  {
   "cell_type": "code",
   "execution_count": 31,
   "metadata": {},
   "outputs": [],
   "source": [
    "students = [{\"name\":\"John\",\"score\":17},{\"name\":\"Mary\",\"score\":11},{\"name\":\"Jane\",\"score\":15},{\"name\":\"Michael\",\"score\":4}]\n",
    "test_name = \"American States quiz\"\n",
    "max_score = 20"
   ]
  },
  {
   "cell_type": "code",
   "execution_count": 36,
   "metadata": {},
   "outputs": [],
   "source": [
    "template = env.get_template(\"template.html\")\n",
    "out = \"template_result.html\"\n",
    "context = {\n",
    "    \"students\":students,\n",
    "    \"test-name\":test_name,\n",
    "    \"max_score\":max_score,\n",
    "}\n",
    "with open(out, mode=\"w\", encoding=\"utf-8\") as f:\n",
    "    f.write(template.render(context))"
   ]
  }
 ],
 "metadata": {
  "kernelspec": {
   "display_name": "RibosomeProfiler",
   "language": "python",
   "name": "python3"
  },
  "language_info": {
   "codemirror_mode": {
    "name": "ipython",
    "version": 3
   },
   "file_extension": ".py",
   "mimetype": "text/x-python",
   "name": "python",
   "nbconvert_exporter": "python",
   "pygments_lexer": "ipython3",
   "version": "3.11.3"
  },
  "orig_nbformat": 4
 },
 "nbformat": 4,
 "nbformat_minor": 2
}
