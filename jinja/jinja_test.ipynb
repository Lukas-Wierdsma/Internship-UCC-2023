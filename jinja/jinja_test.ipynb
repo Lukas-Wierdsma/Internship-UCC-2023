{
 "cells": [
  {
   "cell_type": "code",
   "execution_count": 3,
   "metadata": {},
   "outputs": [],
   "source": [
    "from jinja2 import Environment, PackageLoader, select_autoescape\n",
    "env = Environment(\n",
    "    loader=PackageLoader(\"jinja_test\"),\n",
    "    autoescape=select_autoescape())"
   ]
  },
  {
   "cell_type": "code",
   "execution_count": 11,
   "metadata": {},
   "outputs": [
    {
     "name": "stdout",
     "output_type": "stream",
     "text": [
      "Hello World!\n"
     ]
    }
   ],
   "source": [
    "template = env.from_string(\"Hello {{ name }}!\")\n",
    "print(template.render(name=\"World\"))"
   ]
  },
  {
   "cell_type": "code",
   "execution_count": 16,
   "metadata": {},
   "outputs": [
    {
     "name": "stdout",
     "output_type": "stream",
     "text": [
      "\n",
      "Hello John!\n",
      "\n",
      "I'm happy to inform you that you did very well on today's European Countries quiz.\n",
      "You reached 17 out of 20 points.\n",
      "\n",
      "See you tomorrow!\n",
      "Anke\n"
     ]
    }
   ],
   "source": [
    "template = env.get_template(\"template.txt\")\n",
    "print(template.render(name=\"John\", test_name=\"European Countries quiz\", score=17, max_score=20))"
   ]
  }
 ],
 "metadata": {
  "kernelspec": {
   "display_name": "RibosomeProfiler",
   "language": "python",
   "name": "python3"
  },
  "language_info": {
   "codemirror_mode": {
    "name": "ipython",
    "version": 3
   },
   "file_extension": ".py",
   "mimetype": "text/x-python",
   "name": "python",
   "nbconvert_exporter": "python",
   "pygments_lexer": "ipython3",
   "version": "3.11.3"
  },
  "orig_nbformat": 4
 },
 "nbformat": 4,
 "nbformat_minor": 2
}
